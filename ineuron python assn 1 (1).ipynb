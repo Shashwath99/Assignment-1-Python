{
 "cells": [
  {
   "cell_type": "markdown",
   "metadata": {},
   "source": [
    "# Task 1 "
   ]
  },
  {
   "cell_type": "code",
   "execution_count": 30,
   "metadata": {},
   "outputs": [
    {
     "data": {
      "text/plain": [
       "2"
      ]
     },
     "execution_count": 30,
     "metadata": {},
     "output_type": "execute_result"
    }
   ],
   "source": [
    "# 1 the first code\n",
    "1 + 1"
   ]
  },
  {
   "cell_type": "code",
   "execution_count": 28,
   "metadata": {
    "scrolled": true
   },
   "outputs": [
    {
     "name": "stdout",
     "output_type": "stream",
     "text": [
      "2007,2014,2021,2028,2042,2049,2056,2063,2077,2084,2091,2098,2112,2119,2126,2133,2147,2154,2161,2168,2182,2189,2196,2203,2217,2224,2231,2238,2252,2259,2266,2273,2287,2294,2301,2308,2322,2329,2336,2343,2357,2364,2371,2378,2392,2399,2406,2413,2427,2434,2441,2448,2462,2469,2476,2483,2497,2504,2511,2518,2532,2539,2546,2553,2567,2574,2581,2588,2602,2609,2616,2623,2637,2644,2651,2658,2672,2679,2686,2693,2707,2714,2721,2728,2742,2749,2756,2763,2777,2784,2791,2798,2812,2819,2826,2833,2847,2854,2861,2868,2882,2889,2896,2903,2917,2924,2931,2938,2952,2959,2966,2973,2987,2994,3001,3008,3022,3029,3036,3043,3057,3064,3071,3078,3092,3099,3106,3113,3127,3134,3141,3148,3162,3169,3176,3183,3197,"
     ]
    }
   ],
   "source": [
    "# 2\n",
    "a = list(range(2000,3201,7))\n",
    "for i in range(len(a)):\n",
    "    if i%5 != 0:\n",
    "        print (a[i],sep=\",\",end = ',')  \n",
    "        \n"
   ]
  },
  {
   "cell_type": "code",
   "execution_count": 29,
   "metadata": {},
   "outputs": [
    {
     "name": "stdout",
     "output_type": "stream",
     "text": [
      "Enter your first name:sha\n",
      "Enter your last name:sri\n",
      "sri sha\n"
     ]
    }
   ],
   "source": [
    "# 3\n",
    "first_name = input(\"Enter your first name:\")\n",
    "last_name = input(\"Enter your last name:\")\n",
    "print(last_name +\" \" + first_name)\n"
   ]
  },
  {
   "cell_type": "code",
   "execution_count": 3,
   "metadata": {},
   "outputs": [
    {
     "name": "stdout",
     "output_type": "stream",
     "text": [
      "the volume of the sphere is  904.3199999999999\n"
     ]
    }
   ],
   "source": [
    "# 4\n",
    "def spherevolume(diameter = int):\n",
    "    r = (diameter/2)\n",
    "    print(\"the volume of the sphere is \",  (4/3)* 3.14 * r**3 )\n",
    "  \n",
    "spherevolume(12)"
   ]
  },
  {
   "cell_type": "markdown",
   "metadata": {},
   "source": [
    "# Task 2"
   ]
  },
  {
   "cell_type": "code",
   "execution_count": 18,
   "metadata": {},
   "outputs": [
    {
     "name": "stdout",
     "output_type": "stream",
     "text": [
      "1,2\n",
      "['1', '2']\n"
     ]
    }
   ],
   "source": [
    "#1 \n",
    "seq = input()\n",
    "seq1 = seq.split(',')\n",
    "seq1 = list(seq1)\n",
    "print(seq1)"
   ]
  },
  {
   "cell_type": "code",
   "execution_count": 19,
   "metadata": {},
   "outputs": [
    {
     "name": "stdout",
     "output_type": "stream",
     "text": [
      "* \r\n",
      "* * \r\n",
      "* * * \r\n",
      "* * * * \r\n",
      "* * * * * \r\n",
      "* * * * \r\n",
      "* * * \r\n",
      "* * \r\n",
      "* \r\n",
      "\r\n"
     ]
    }
   ],
   "source": [
    "# 2\n",
    "a = 5\n",
    "for i in range(0,a):\n",
    "    for j in range(0,i+1):\n",
    "        print(\"*\", end = \" \")\n",
    "    print(\"\\r\")\n",
    "    \n",
    "for i in range(a,0,-1):\n",
    "    for j in range(0,i-1):\n",
    "        print(\"*\", end = \" \")\n",
    "    print(\"\\r\")\n",
    "    "
   ]
  },
  {
   "cell_type": "code",
   "execution_count": 20,
   "metadata": {},
   "outputs": [
    {
     "name": "stdout",
     "output_type": "stream",
     "text": [
      "shhhaaa\n",
      "aaahhhs\n"
     ]
    }
   ],
   "source": [
    "#3\n",
    "name = input()\n",
    "print(name[::-1])"
   ]
  },
  {
   "cell_type": "code",
   "execution_count": 27,
   "metadata": {},
   "outputs": [
    {
     "name": "stdout",
     "output_type": "stream",
     "text": [
      "WE, THE PEOPLE OF INDIA, \n",
      "\thaving solemnly resolved to constitute India into a SOVEREIGN, \n",
      "\t\tSOCIALIST, SECULAR, DEMOCRATIC REPUBLIC \n",
      "\t\t and to secure to all its citizens\n"
     ]
    }
   ],
   "source": [
    "# 4\n",
    "print(\"WE, THE PEOPLE OF INDIA, \\n\\thaving solemnly resolved to constitute India into a SOVEREIGN, \\n\\t\\tSOCIALIST, SECULAR, DEMOCRATIC REPUBLIC \\n\\t\\t and to secure to all its citizens\")"
   ]
  }
 ],
 "metadata": {
  "kernelspec": {
   "display_name": "Python 3",
   "language": "python",
   "name": "python3"
  },
  "language_info": {
   "codemirror_mode": {
    "name": "ipython",
    "version": 3
   },
   "file_extension": ".py",
   "mimetype": "text/x-python",
   "name": "python",
   "nbconvert_exporter": "python",
   "pygments_lexer": "ipython3",
   "version": "3.7.4"
  }
 },
 "nbformat": 4,
 "nbformat_minor": 4
}
